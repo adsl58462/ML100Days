{
 "cells": [
  {
   "cell_type": "code",
   "execution_count": 1,
   "metadata": {},
   "outputs": [
    {
     "name": "stdout",
     "output_type": "stream",
     "text": [
      "<module 'numpy' from '/opt/anaconda3/lib/python3.8/site-packages/numpy/__init__.py'>\n",
      "1.19.2\n"
     ]
    }
   ],
   "source": [
    "import numpy as np\n",
    "print(np)\n",
    "print(np .__version__)"
   ]
  },
  {
   "cell_type": "code",
   "execution_count": 7,
   "metadata": {},
   "outputs": [
    {
     "name": "stdout",
     "output_type": "stream",
     "text": [
      "[[ 0  1  2  3  4]\n",
      " [ 5  6  7  8  9]\n",
      " [10 11 12 13 14]]\n"
     ]
    },
    {
     "data": {
      "text/plain": [
       "array([[ 0,  1,  2,  3,  4],\n",
       "       [ 5,  6,  7,  8,  9],\n",
       "       [10, 11, 12, 13, 14]])"
      ]
     },
     "execution_count": 7,
     "metadata": {},
     "output_type": "execute_result"
    }
   ],
   "source": [
    "a=np.arange(15).reshape(3,5)\n",
    "print(a)\n",
    "a"
   ]
  },
  {
   "cell_type": "code",
   "execution_count": 8,
   "metadata": {},
   "outputs": [
    {
     "name": "stdout",
     "output_type": "stream",
     "text": [
      "int64\n",
      "8\n"
     ]
    }
   ],
   "source": [
    "print(a.dtype)\n",
    "print(a.itemsize)"
   ]
  },
  {
   "cell_type": "code",
   "execution_count": 12,
   "metadata": {},
   "outputs": [
    {
     "name": "stdout",
     "output_type": "stream",
     "text": [
      "True\n",
      "False\n",
      "False\n"
     ]
    },
    {
     "name": "stderr",
     "output_type": "stream",
     "text": [
      "<>:2: SyntaxWarning: \"is\" with a literal. Did you mean \"==\"?\n",
      "<>:2: SyntaxWarning: \"is\" with a literal. Did you mean \"==\"?\n",
      "<ipython-input-12-e509eadd05e8>:2: SyntaxWarning: \"is\" with a literal. Did you mean \"==\"?\n",
      "  print(a.dtype is 'int64')\n"
     ]
    }
   ],
   "source": [
    "print(a.dtype=='int64')\n",
    "print(a.dtype is 'int64')\n",
    "print(a.dtype is np.int64)"
   ]
  },
  {
   "cell_type": "code",
   "execution_count": 17,
   "metadata": {},
   "outputs": [
    {
     "name": "stdout",
     "output_type": "stream",
     "text": [
      "True\n",
      "True\n",
      "True\n"
     ]
    }
   ],
   "source": [
    "print(a.dtype=='int64')\n",
    "print(a.dtype==np.int64)\n",
    "print(a.dtype is np.dtype('int64'))"
   ]
  },
  {
   "cell_type": "code",
   "execution_count": 21,
   "metadata": {},
   "outputs": [
    {
     "name": "stdout",
     "output_type": "stream",
     "text": [
      "type(a):  <class 'numpy.ndarray'>\n",
      "a.dtype:  int64\n"
     ]
    }
   ],
   "source": [
    "#[簡答題] 請問 type(...) 跟 a.dtype 這兩個語法有什麼不同？\n",
    "print('type(a): ', type(a))#查看a類型\n",
    "print('a.dtype: ', a.dtype)#a的資料型態"
   ]
  },
  {
   "cell_type": "code",
   "execution_count": 31,
   "metadata": {},
   "outputs": [
    {
     "name": "stdout",
     "output_type": "stream",
     "text": [
      "[5 2 3 9 7 4]\n",
      "True\n",
      "True\n",
      "True\n"
     ]
    }
   ],
   "source": [
    "#2. 請撰寫一個判斷 a 的元素是否等於指定資料型態的函式，並且通過測試。\n",
    "import numpy as np\n",
    "def is_dtype(a, t):\n",
    "    return a.dtype is np.dtype(t)\n",
    "a = np.random.randint(10, size=6) \n",
    "print(a)\n",
    "\n",
    "print(is_dtype(a,'int')) \n",
    "print(is_dtype(a,np.int)) \n",
    "print(is_dtype(a,np.dtype('int')))"
   ]
  },
  {
   "cell_type": "code",
   "execution_count": 32,
   "metadata": {},
   "outputs": [],
   "source": [
    "#3. [簡答題] 承上題，請判斷下列三種寫法為何不正確？\n",
    "def is_dtype(a, t):\n",
    "    return a.dtype is t\n",
    "# is屬於強比較，必須要兩邊所有規格都相同。\n",
    "# 若是要判斷元素的資料型別是否相等，則需要與np.dtype物件相比\n",
    "def is_dtype(a, t):\n",
    "    return type(a) == np.dtype(t)\n",
    "# type(...)為返回引數的資料型別，並非陣列內元素的資料型別\n",
    "def is_dtype(a, t):\n",
    "    return type(a) is np.dtype(t)\n",
    "# type(...)為返回引數的資料型別，並非陣列內元素的資料型別\n"
   ]
  },
  {
   "cell_type": "code",
   "execution_count": 33,
   "metadata": {},
   "outputs": [],
   "source": [
    "#題目：array1 = np.array(range(30))\n",
    "#1將上列陣列(array1)，轉成維度為(5X6)的 array，順序按列填充。(hint:order=\"F\")\n",
    "\n"
   ]
  },
  {
   "cell_type": "code",
   "execution_count": null,
   "metadata": {},
   "outputs": [],
   "source": [
    "#2呈上題的 array，找出被 6 除餘 1 的數的索引"
   ]
  }
 ],
 "metadata": {
  "kernelspec": {
   "display_name": "Python 3",
   "language": "python",
   "name": "python3"
  },
  "language_info": {
   "codemirror_mode": {
    "name": "ipython",
    "version": 3
   },
   "file_extension": ".py",
   "mimetype": "text/x-python",
   "name": "python",
   "nbconvert_exporter": "python",
   "pygments_lexer": "ipython3",
   "version": "3.8.5"
  }
 },
 "nbformat": 4,
 "nbformat_minor": 4
}
