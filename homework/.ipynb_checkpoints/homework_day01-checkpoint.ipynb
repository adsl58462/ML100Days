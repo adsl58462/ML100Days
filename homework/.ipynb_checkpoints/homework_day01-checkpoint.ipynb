{
 "cells": [
  {
   "cell_type": "code",
   "execution_count": 7,
   "metadata": {},
   "outputs": [
    {
     "name": "stdout",
     "output_type": "stream",
     "text": [
      "<module 'numpy' from '/opt/anaconda3/lib/python3.8/site-packages/numpy/__init__.py'>\n",
      "1.19.2\n"
     ]
    }
   ],
   "source": [
    "import numpy as np\n",
    "print(np)\n",
    "print(np.__version__)"
   ]
  },
  {
   "cell_type": "code",
   "execution_count": 9,
   "metadata": {},
   "outputs": [
    {
     "name": "stdout",
     "output_type": "stream",
     "text": [
      "[[ 0  1  2  3  4]\n",
      " [ 5  6  7  8  9]\n",
      " [10 11 12 13 14]]\n"
     ]
    }
   ],
   "source": [
    "a = np.arange(15).reshape(3,5)\n",
    "print(a)"
   ]
  },
  {
   "cell_type": "code",
   "execution_count": 16,
   "metadata": {},
   "outputs": [
    {
     "name": "stdout",
     "output_type": "stream",
     "text": [
      "2\n",
      "ndim: 2\n",
      "shape: (3, 5)\n",
      "size: 15\n",
      "dtype: int64\n",
      "itemsize: 8\n",
      "data: <memory at 0x7f85ad80ca00>\n"
     ]
    }
   ],
   "source": [
    "print(a.ndim)\n",
    "print('ndim:',a.ndim)\n",
    "print('shape:',a.shape)\n",
    "print('size:',a.size)\n",
    "print('dtype:',a.dtype)\n",
    "print('itemsize:',a.itemsize)\n",
    "print('data:',a.data)"
   ]
  },
  {
   "cell_type": "code",
   "execution_count": 21,
   "metadata": {},
   "outputs": [
    {
     "name": "stdout",
     "output_type": "stream",
     "text": [
      "list(a): [array([0, 1, 2, 3, 4]), array([5, 6, 7, 8, 9]), array([10, 11, 12, 13, 14])]\n",
      "tolist(): [[0, 1, 2, 3, 4], [5, 6, 7, 8, 9], [10, 11, 12, 13, 14]]\n"
     ]
    }
   ],
   "source": [
    "print('list(a):',list(a))\n",
    "print('tolist():',a.tolist())"
   ]
  },
  {
   "cell_type": "code",
   "execution_count": 22,
   "metadata": {},
   "outputs": [
    {
     "name": "stdout",
     "output_type": "stream",
     "text": [
      "list(a)\n",
      "a.tolist()\n"
     ]
    }
   ],
   "source": [
    "#1簡答題\n",
    "print('list(a)') #只轉第一層為list\n",
    "print('a.tolist()') #全部都轉list"
   ]
  },
  {
   "cell_type": "code",
   "execution_count": 31,
   "metadata": {},
   "outputs": [
    {
     "name": "stdout",
     "output_type": "stream",
     "text": [
      "[4 1 2 2 8 9]\n",
      "ndim: 1\n",
      "shape: (6,)\n",
      "size: 6\n",
      "dtype: int64\n",
      "itemsize: 8\n",
      "length: 6\n",
      "type: <class 'numpy.ndarray'>\n"
     ]
    }
   ],
   "source": [
    "#2\n",
    "a = np.random.randint(10, size=6)\n",
    "print(a)\n",
    "print('ndim:',a.ndim)\n",
    "print('shape:',a.shape)\n",
    "print('size:',a.size)\n",
    "print('dtype:',a.dtype)\n",
    "print('itemsize:',a.itemsize)\n",
    "print('length:',len(a))\n",
    "print('type:',type(a))"
   ]
  },
  {
   "cell_type": "code",
   "execution_count": 32,
   "metadata": {},
   "outputs": [
    {
     "name": "stdout",
     "output_type": "stream",
     "text": [
      "[[0 8 6 8]\n",
      " [0 5 1 5]\n",
      " [9 4 9 3]]\n",
      "ndim: 2\n",
      "shape: (3, 4)\n",
      "size: 12\n",
      "dtype: int64\n",
      "itemsize: 8\n",
      "length: 3\n",
      "type: <class 'numpy.ndarray'>\n"
     ]
    }
   ],
   "source": [
    "b = np.random.randint(10, size=(3,4))\n",
    "print(b)\n",
    "print('ndim:',b.ndim)\n",
    "print('shape:',b.shape)\n",
    "print('size:',b.size)\n",
    "print('dtype:',b.dtype)\n",
    "print('itemsize:',b.itemsize)\n",
    "print('length:',len(b))\n",
    "print('type:',type(b))"
   ]
  },
  {
   "cell_type": "code",
   "execution_count": 33,
   "metadata": {},
   "outputs": [
    {
     "name": "stdout",
     "output_type": "stream",
     "text": [
      "[[[8 8]\n",
      "  [7 2]\n",
      "  [8 9]]\n",
      "\n",
      " [[8 1]\n",
      "  [8 9]\n",
      "  [5 3]]]\n",
      "ndim: 3\n",
      "shape: (2, 3, 2)\n",
      "size: 12\n",
      "dtype: int64\n",
      "itemsize: 8\n",
      "length: 2\n",
      "type: <class 'numpy.ndarray'>\n"
     ]
    }
   ],
   "source": [
    "c = np.random.randint(10, size=(2,3,2))\n",
    "print(c)\n",
    "print('ndim:',c.ndim)\n",
    "print('shape:',c.shape)\n",
    "print('size:',c.size)\n",
    "print('dtype:',c.dtype)\n",
    "print('itemsize:',c.itemsize)\n",
    "print('length:',len(c))\n",
    "print('type:',type(c))"
   ]
  },
  {
   "cell_type": "code",
   "execution_count": 34,
   "metadata": {},
   "outputs": [
    {
     "name": "stdout",
     "output_type": "stream",
     "text": [
      "[4, 1, 2, 2, 8, 9]\n",
      "[4, 1, 2, 2, 8, 9]\n"
     ]
    }
   ],
   "source": [
    "#3. 如何利用 list(...) 實現 a.tolist() 的效果？試著用程式實作。\n",
    "print(a.tolist())\n",
    "print(list(a))"
   ]
  },
  {
   "cell_type": "code",
   "execution_count": 35,
   "metadata": {},
   "outputs": [
    {
     "name": "stdout",
     "output_type": "stream",
     "text": [
      "[[0, 8, 6, 8], [0, 5, 1, 5], [9, 4, 9, 3]]\n",
      "[array([0, 8, 6, 8]), array([0, 5, 1, 5]), array([9, 4, 9, 3])]\n"
     ]
    }
   ],
   "source": [
    "print(b.tolist())\n",
    "print(list(b))"
   ]
  },
  {
   "cell_type": "code",
   "execution_count": 36,
   "metadata": {},
   "outputs": [
    {
     "name": "stdout",
     "output_type": "stream",
     "text": [
      "[[[8, 8], [7, 2], [8, 9]], [[8, 1], [8, 9], [5, 3]]]\n",
      "[array([[8, 8],\n",
      "       [7, 2],\n",
      "       [8, 9]]), array([[8, 1],\n",
      "       [8, 9],\n",
      "       [5, 3]])]\n"
     ]
    }
   ],
   "source": [
    "print(c.tolist())\n",
    "print(list(c))"
   ]
  },
  {
   "cell_type": "code",
   "execution_count": null,
   "metadata": {},
   "outputs": [],
   "source": []
  },
  {
   "cell_type": "code",
   "execution_count": 42,
   "metadata": {},
   "outputs": [
    {
     "data": {
      "text/plain": [
       "array([ 0,  1,  2,  3,  4,  5,  6,  7,  8,  9, 10, 11, 12, 13, 14, 15, 16,\n",
       "       17, 18, 19, 20])"
      ]
     },
     "execution_count": 42,
     "metadata": {},
     "output_type": "execute_result"
    }
   ],
   "source": [
    "#1.生成一個等差數列，首數為0，尾數為20，公差為1的數列。\n",
    "a=np.arange(21)\n",
    "a"
   ]
  },
  {
   "cell_type": "code",
   "execution_count": 43,
   "metadata": {},
   "outputs": [
    {
     "data": {
      "text/plain": [
       "array([ 0,  2,  4,  6,  8, 10, 12, 14, 16, 18, 20])"
      ]
     },
     "execution_count": 43,
     "metadata": {},
     "output_type": "execute_result"
    }
   ],
   "source": [
    "#2.呈上題，將以上數列取出偶數。\n",
    "a[0:21:2]"
   ]
  },
  {
   "cell_type": "code",
   "execution_count": 44,
   "metadata": {},
   "outputs": [
    {
     "data": {
      "text/plain": [
       "array([ 0,  3,  6,  9, 12, 15, 18])"
      ]
     },
     "execution_count": 44,
     "metadata": {},
     "output_type": "execute_result"
    }
   ],
   "source": [
    "#3.呈1題，將數列取出3的倍數。\n",
    "a[0:21:3]"
   ]
  },
  {
   "cell_type": "code",
   "execution_count": null,
   "metadata": {},
   "outputs": [],
   "source": []
  }
 ],
 "metadata": {
  "kernelspec": {
   "display_name": "Python 3",
   "language": "python",
   "name": "python3"
  },
  "language_info": {
   "codemirror_mode": {
    "name": "ipython",
    "version": 3
   },
   "file_extension": ".py",
   "mimetype": "text/x-python",
   "name": "python",
   "nbconvert_exporter": "python",
   "pygments_lexer": "ipython3",
   "version": "3.8.5"
  }
 },
 "nbformat": 4,
 "nbformat_minor": 4
}
